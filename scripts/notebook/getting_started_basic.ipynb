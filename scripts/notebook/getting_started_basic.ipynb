{
 "cells": [
  {
   "attachments": {},
   "cell_type": "markdown",
   "metadata": {},
   "source": [
    "# Slitflow tutorial - Basic usage\n",
    "\n",
    "This example provides an minimal overview of Slitflow by analyzing the trajectories of simulated random walks."
   ]
  },
  {
   "attachments": {},
   "cell_type": "markdown",
   "metadata": {},
   "source": [
    "## 1. Installation\n",
    "Current version of Slitflow is tested on Python >=3.8, <3.11. Please check your Python version by running the following cell."
   ]
  },
  {
   "cell_type": "code",
   "execution_count": null,
   "metadata": {},
   "outputs": [],
   "source": [
    "!python --version"
   ]
  },
  {
   "attachments": {},
   "cell_type": "markdown",
   "metadata": {},
   "source": [
    "Depending on your environment, additional setup may be needed to run this notebook.\n",
    "\n",
    "Installing `ttf-mscorefonts-installer` is recommended for reproducing the figures.\n",
    "\n",
    "In Google Colaboratory, execute the following cell to install it. By executing the following cell, you agree to the font license."
   ]
  },
  {
   "cell_type": "code",
   "execution_count": null,
   "metadata": {},
   "outputs": [],
   "source": [
    "!echo ttf-mscorefonts-installer msttcorefonts/accepted-mscorefonts-eula select true | debconf-set-selections \\\n",
    "  && apt-get install -y --no-install-recommends ttf-mscorefonts-installer\n",
    "!rm -r /root/.cache/matplotlib/"
   ]
  },
  {
   "attachments": {},
   "cell_type": "markdown",
   "metadata": {},
   "source": [
    "<strong><em>!!! Restart the runtime now. !!!</strong></em>\n",
    "\n",
    "Then install Slitflow and dependencies as follows."
   ]
  },
  {
   "cell_type": "code",
   "execution_count": null,
   "metadata": {},
   "outputs": [],
   "source": [
    "! pip install slitflow ipywidgets"
   ]
  },
  {
   "attachments": {},
   "cell_type": "markdown",
   "metadata": {},
   "source": [
    "## 2. Preparing tutorial directory\n",
    "In the latter part of the Basic tutorial (3.4), the results of each analysis\n",
    "step are stored in the project directory. To create the project directory in\n",
    "your workspace, follow these steps."
   ]
  },
  {
   "cell_type": "code",
   "execution_count": null,
   "metadata": {},
   "outputs": [],
   "source": [
    "import os\n",
    "\n",
    "root_dir = \"slitflow_tutorial\"\n",
    "project_dir = os.path.join(root_dir, \"getting_started_basic\")\n",
    "\n",
    "# Create directories\n",
    "if not os.path.isdir(root_dir):\n",
    "    os.makedirs(root_dir)\n",
    "if not os.path.isdir(project_dir):\n",
    "    os.makedirs(project_dir)"
   ]
  },
  {
   "attachments": {},
   "cell_type": "markdown",
   "metadata": {},
   "source": [
    "## 3. Running the example\n",
    "We usually import slitflow as follows:"
   ]
  },
  {
   "cell_type": "code",
   "execution_count": null,
   "metadata": {},
   "outputs": [],
   "source": [
    "import slitflow as sf"
   ]
  },
  {
   "attachments": {},
   "cell_type": "markdown",
   "metadata": {},
   "source": [
    "### 3.1. Simulate random walks\n",
    "Start by creating an Index object that defines the number of images and \n",
    "trajectories. Then we execute the ``run()`` method to make result data inside\n",
    "the Index object.\n",
    "\n",
    "See also [slitflow.tbl.create.Index](https://slitflow.readthedocs.io/en/latest/api/slitflow.tbl.create.html#slitflow.tbl.create.Index) for argument descriptions."
   ]
  },
  {
   "cell_type": "code",
   "execution_count": null,
   "metadata": {},
   "outputs": [],
   "source": [
    "D1 = sf.tbl.create.Index()\n",
    "D1.run([], {\"type\": \"trajectory\", \"index_counts\": [2, 3], \"split_depth\": 0})\n",
    "print(D1.data[0])"
   ]
  },
  {
   "attachments": {},
   "cell_type": "markdown",
   "metadata": {},
   "source": [
    "Then we append random walk coordinates to the index table by making the next \n",
    "analysis object.\n",
    "\n",
    "See also [slitflow.trj.random.Walk2DCenter](https://slitflow.readthedocs.io/en/latest/api/slitflow.trj.random.html#slitflow.trj.random.Walk2DCenter) for argument descriptions."
   ]
  },
  {
   "cell_type": "code",
   "execution_count": null,
   "metadata": {},
   "outputs": [],
   "source": [
    "D2 = sf.trj.random.Walk2DCenter()\n",
    "D2.run([D1], {\"diff_coeff\": 0.1, \"interval\": 0.1, \"n_step\": 5,\n",
    "       \"length_unit\": \"um\", \"seed\": 1, \"split_depth\": 0})\n",
    "print(D2.data[0])"
   ]
  },
  {
   "attachments": {},
   "cell_type": "markdown",
   "metadata": {},
   "source": [
    "### 3.2. Calculate the Mean Square Displacement\n",
    "The following code calculates the MSD of each trajectory. Then MSDs are\n",
    "averaged through all images.\n",
    "\n",
    "See also [slitflow.trj.msd.Each](https://slitflow.readthedocs.io/en/latest/api/slitflow.trj.msd.html#slitflow.trj.msd.Each) and [slitflow.tbl.stat.Mean](https://slitflow.readthedocs.io/en/latest/api/slitflow.tbl.stat.html#slitflow.tbl.stat.Mean)"
   ]
  },
  {
   "cell_type": "code",
   "execution_count": null,
   "metadata": {},
   "outputs": [],
   "source": [
    "D3 = sf.trj.msd.Each()\n",
    "D3.run([D2], {\"group_depth\": 2, \"split_depth\": 0})\n",
    "\n",
    "D4 = sf.tbl.stat.Mean()\n",
    "D4.run([D3], {\"calc_col\": \"msd\", \"index_cols\": [\n",
    "    \"interval\"], \"split_depth\": 0})\n",
    "print(D4.data[0])"
   ]
  },
  {
   "attachments": {},
   "cell_type": "markdown",
   "metadata": {},
   "source": [
    "### 3.3. Make a figure image\n",
    "\n",
    "<strong><em> By default, Slitflow disables figure display in a separate window via Matplotlib. To show figures in the Jupyter Notebook, import slitflow and run the following snippet.</em></strong>"
   ]
  },
  {
   "cell_type": "code",
   "execution_count": null,
   "metadata": {},
   "outputs": [],
   "source": [
    "%matplotlib inline"
   ]
  },
  {
   "attachments": {},
   "cell_type": "markdown",
   "metadata": {},
   "source": [
    "Then plot the averaged MSD against the time interval. The graph style is\n",
    "adjusted using style class and creates a figure tiff image.\n",
    "\n",
    "See also [slitflow.fig.line.Simple](https://slitflow.readthedocs.io/en/latest/api/slitflow.fig.line.html#slitflow.fig.line.Simple), [slitflow.fig.style.Basic](https://slitflow.readthedocs.io/en/latest/api/slitflow.fig.style.html#slitflow.fig.style.Basic) and [slitflow.fig.figure.ToTiff](https://slitflow.readthedocs.io/en/latest/api/slitflow.fig.figure.html#slitflow.fig.figure.ToTiff)"
   ]
  },
  {
   "cell_type": "code",
   "execution_count": null,
   "metadata": {},
   "outputs": [],
   "source": [
    "import matplotlib.pyplot as plt\n",
    "\n",
    "D5 = sf.fig.line.Simple()\n",
    "D5.run([D4], {\"calc_cols\": [\"interval\", \"msd\"],\n",
    "              \"err_col\": \"sem\", \"group_depth\": 0, \"split_depth\": 0})\n",
    "\n",
    "D6 = sf.fig.style.Basic()\n",
    "D6.run([D5], {\"limit\": [-0.01, 0.52, -0.005, 0.205], \"tick\": [[0, 0.1, 0.2, 0.3, 0.4, 0.5], [0, 0.05,\n",
    "                                                                                             0.1, 0.15, 0.2]], \"label\": [\"Interval (s)\", \"MSD (\\u03bcm$^{2}$)\"], \"format\": ['%.1f', '%.2f']})\n",
    "\n",
    "D7 = sf.fig.figure.ToTiff()\n",
    "D7.run([D6], {\"split_depth\": 0})\n",
    "\n",
    "plt.close()\n",
    "plt.imshow(D7.to_imshow(0))\n",
    "plt.axis(\"off\")\n",
    "plt.show()"
   ]
  },
  {
   "attachments": {},
   "cell_type": "markdown",
   "metadata": {},
   "source": [
    "If you encounter the `WARNING:matplotlib.font_manager:findfont: Font family 'Arial' not found.`, restart the runtime and begin from `2. Preparing tutorial directory`."
   ]
  },
  {
   "attachments": {},
   "cell_type": "markdown",
   "metadata": {},
   "source": [
    "### 3.4. Run using a pipeline\n",
    "\n",
    "The Pipeline class can perform all the above steps while saving data to a\n",
    "project folder."
   ]
  },
  {
   "cell_type": "code",
   "execution_count": null,
   "metadata": {},
   "outputs": [],
   "source": [
    "PL = sf.manager.Pipeline(project_dir)\n",
    "obs_names = [\"Sample1\"]\n",
    "PL.add(sf.tbl.create.Index(), 0, (1, 1), 'channel1', 'index',\n",
    "       obs_names, [], [],\n",
    "       {\"type\": \"trajectory\", \"index_counts\": [2, 3], \"split_depth\": 0})\n",
    "PL.add(sf.trj.random.Walk2DCenter(), 0, (1, 2), None, 'trj',\n",
    "       obs_names, [(1, 1)], [0],\n",
    "       {\"diff_coeff\": 0.1, \"interval\": 0.1, \"n_step\": 5, \"length_unit\": \"um\", \"seed\": 1, \"split_depth\": 0})\n",
    "PL.add(sf.trj.msd.Each(), 0, (1, 3), None, 'msd',\n",
    "       obs_names, [(1, 2)], [0],\n",
    "       {\"group_depth\": 2, \"split_depth\": 0})\n",
    "PL.add(sf.tbl.stat.Mean(), 0, (1, 4), None, 'avemsd',\n",
    "       obs_names, [(1, 3)], [0],\n",
    "       {\"calc_col\": \"msd\", \"index_cols\": [\"interval\"], \"split_depth\": 0})\n",
    "PL.add(sf.fig.line.Simple(), 0, (1, 5), None, 'msd_fig',\n",
    "       obs_names, [(1, 4)], [0],\n",
    "       {\"calc_cols\": [\"interval\", \"msd\"], \"err_col\": \"sem\", \"group_depth\": 0, \"split_depth\": 0})\n",
    "PL.add(sf.fig.style.Basic(), 0, (1, 6), None, 'msd_style',\n",
    "       obs_names, [(1, 5)], [0],\n",
    "       {\"limit\": [-0.01, 0.52, -0.005, 0.205], \"tick\": [[0, 0.1, 0.2, 0.3, 0.4, 0.5], [0, 0.05, 0.1, 0.15, 0.2]],\n",
    "        \"label\": [\"Interval (s)\", \"MSD (\\u03bcm$^{2}$)\"], \"format\": ['%.1f', '%.2f']})\n",
    "PL.add(sf.fig.figure.ToTiff(), 0, (1, 7), None, 'msd_img',\n",
    "       obs_names, [(1, 6)], [0],\n",
    "       {\"split_depth\": 0})\n",
    "PL.save(\"pipeline\")\n",
    "PL.run()"
   ]
  },
  {
   "attachments": {},
   "cell_type": "markdown",
   "metadata": {},
   "source": [
    "This code creates the following folder structure.\n",
    "```python\n",
    "slitflow_tutorial/getting_started_basic\n",
    "    |--g0_config\n",
    "    |    pipeline.csv\n",
    "    |--g1_groupe1\n",
    "        |--a1_index\n",
    "        |    Sample1_index.csv\n",
    "        |    Sample1_index.sf\n",
    "        |    Sample1_index.sfx\n",
    "        |--a2_trj\n",
    "        |    Sample1_trj.csv\n",
    "        |    Sample1_trj.sf\n",
    "        |    Sample1_trj.sfx\n",
    "        |--a3_msd\n",
    "        |    Sample1_msd.csv\n",
    "        |    Sample1_msd.sf\n",
    "        |    Sample1_msd.sfx\n",
    "        |--a4_avemsd\n",
    "        |    Sample1_avemsd.csv\n",
    "        |    Sample1_avemsd.sf\n",
    "        |    Sample1_avemsd.sfx\n",
    "        |--a5_msd_fig\n",
    "        |    Sample1_msd_fig.fig\n",
    "        |    Sample1_msd_fig.sf\n",
    "        |    Sample1_msd_fig.sfx\n",
    "        |--a6_msd_style\n",
    "        |    Sample1_msd_style.fig\n",
    "        |    Sample1_msd_style.sf\n",
    "        |    Sample1_msd_style.sfx\n",
    "        |--a7_msd_img\n",
    "            Sample1_msd_img.tif\n",
    "            Sample1_msd_img.sf\n",
    "            Sample1_msd_img.sfx\n",
    "```"
   ]
  },
  {
   "attachments": {},
   "cell_type": "markdown",
   "metadata": {},
   "source": [
    "We can use the make_flowchat() method of the pipeline object to create an\n",
    "analytical flowchart diagram. The image is created as a PNG file in the\n",
    "g0_config folder in the project directory."
   ]
  },
  {
   "cell_type": "code",
   "execution_count": null,
   "metadata": {},
   "outputs": [],
   "source": [
    "PL.make_flowchart(\"pipeline\", \"grp_ana\")"
   ]
  }
 ],
 "metadata": {
  "kernelspec": {
   "display_name": "dev",
   "language": "python",
   "name": "python3"
  },
  "language_info": {
   "codemirror_mode": {
    "name": "ipython",
    "version": 3
   },
   "file_extension": ".py",
   "mimetype": "text/x-python",
   "name": "python",
   "nbconvert_exporter": "python",
   "pygments_lexer": "ipython3",
   "version": "3.10.4"
  },
  "orig_nbformat": 4,
  "vscode": {
   "interpreter": {
    "hash": "31dbf7c85bf67d06a94d62ece3333a82cd016e079234b9518ff9e400970b0f30"
   }
  }
 },
 "nbformat": 4,
 "nbformat_minor": 2
}
