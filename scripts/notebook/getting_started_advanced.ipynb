{
 "cells": [
  {
   "attachments": {},
   "cell_type": "markdown",
   "metadata": {},
   "source": [
    "# Slitflow tutorial - Advanced usage\n",
    "\n",
    "This tutorial demonstrates a workflow of state-of-the-art analyses using single-molecule fluorescence movies in living cells.\n",
    "\n",
    "## 1. Background\n",
    "\n",
    "This example uses live-cell single-molecule movies of RNA polymerase II—that\n",
    "is, Pol II, a transcriptional protein complex—from cultured cells.\n",
    "Human U2OS cells expressing Halo-RPB1—the largest subunit of Pol II labeled\n",
    "with a self-labeling HaloTag—were stained with 3 nM Janelia Fluor fluorescence\n",
    "substrate, and excited using HILO illumination. 300 frames were captured\n",
    "at 33.33 ms per frame using an EMCCD camera.\n",
    "\n",
    "This tutorial uses the wrapping classes of Python packages, including trackpy, fastspt, and tramway. Please consider citing the following references if the classes are helpful for your research.\n",
    "\n",
    "[1] Allan DB, Caswell T, Keim NC, van der Wel CM, Verweij RW. soft-matter/trackpy: Trackpy v0.5.0 2021.\n",
    "\n",
    "[2] Hansen AS, Woringer M, Grimm JB, Lavis LD, Tjian R, Darzacq X. Robust model-based analysis of single-particle tracking experiments with Spot-On. Elife 2018;7.\n",
    "\n",
    "[3] Laurent F, Verdier H, Duval M, Serov A, Vestergaard CL, Masson J-B. TRamWAy: mapping physical properties of individual biomolecule random motion in large-scale single-particle tracking experiments. Bioinformatics 2022;38:3149–50.\n",
    "\n",
    "## 2. Installation\n",
    "Current version of Slitflow is tested on Python >=3.8, <3.11. Please check your Python version by running the following cell."
   ]
  },
  {
   "cell_type": "code",
   "execution_count": null,
   "metadata": {},
   "outputs": [],
   "source": [
    "!python --version"
   ]
  },
  {
   "attachments": {},
   "cell_type": "markdown",
   "metadata": {},
   "source": [
    "Depending on your environment, additional setup may be needed to run this notebook.\n",
    "\n",
    "Installing `ttf-mscorefonts-installer` is recommended for reproducing the figures. In Google Colaboratory, execute the following cell to install it."
   ]
  },
  {
   "cell_type": "code",
   "execution_count": null,
   "metadata": {},
   "outputs": [],
   "source": [
    "!echo ttf-mscorefonts-installer msttcorefonts/accepted-mscorefonts-eula select true | debconf-set-selections \\\n",
    "  && apt-get install -y --no-install-recommends ttf-mscorefonts-installer\n",
    "!rm -r /root/.cache/matplotlib/"
   ]
  },
  {
   "attachments": {},
   "cell_type": "markdown",
   "metadata": {},
   "source": [
    "<strong><em>!!! Restart the runtime now. !!!</strong></em>\n",
    "\n",
    "Then install Slitflow and dependencies as follows."
   ]
  },
  {
   "cell_type": "code",
   "execution_count": null,
   "metadata": {},
   "outputs": [],
   "source": [
    "! pip install slitflow[full] ipywidgets git+https://gitlab.com/yumaitou/Spot-On-cli.git@py310"
   ]
  },
  {
   "attachments": {},
   "cell_type": "markdown",
   "metadata": {},
   "source": [
    "## 3. Downloading data and making a directory\n",
    "\n",
    "To download image data of single-molecule movies (142 MB), get the zip file\n",
    "from [zenodo](https://zenodo.org/record/7645485#.Y-3tqB_P2Ht>).\n",
    "Unzip the file outside the project directory. In this tutorial, we assume the\n",
    "data is located in the ``slitflow_tutorial/data/getting_started_advanced``\n",
    "directory in the user home directory. \n",
    "\n",
    "Run the cells below to create directories and download the dataset."
   ]
  },
  {
   "cell_type": "code",
   "execution_count": null,
   "metadata": {},
   "outputs": [],
   "source": [
    "import os\n",
    "import urllib.request\n",
    "import zipfile\n",
    "import io\n",
    "\n",
    "root_dir = \"slitflow_tutorial\"\n",
    "project_dir = os.path.join(root_dir, \"getting_started_advanced\")\n",
    "data_root_dir = os.path.join(root_dir, \"data\")\n",
    "data_dir = os.path.join(data_root_dir, \"getting_started_advanced\")\n",
    "\n",
    "# Create directories\n",
    "if not os.path.isdir(root_dir):\n",
    "    os.makedirs(root_dir)\n",
    "if not os.path.isdir(project_dir):\n",
    "    os.makedirs(project_dir)\n",
    "if not os.path.isdir(data_root_dir):\n",
    "    os.makedirs(data_root_dir)\n",
    "if not os.path.isdir(data_dir):\n",
    "    os.makedirs(data_dir)"
   ]
  },
  {
   "cell_type": "code",
   "execution_count": null,
   "metadata": {},
   "outputs": [],
   "source": [
    "# Download single-molecule movies\n",
    "file_url = 'https://zenodo.org/record/7645485/files/getting_started_advanced.zip'\n",
    "opener = urllib.request.build_opener()\n",
    "\n",
    "print(\"Downloading single-molecule movies. This may take tens of minutes.\")\n",
    "with opener.open(file_url) as download_file:\n",
    "    with zipfile.ZipFile(io.BytesIO(download_file.read())) as zip_file:\n",
    "        zip_file.extractall(data_root_dir)\n",
    "print(\"Download completed.\")"
   ]
  },
  {
   "attachments": {},
   "cell_type": "markdown",
   "metadata": {},
   "source": [
    "## 4. Running the example\n",
    "\n",
    "We usually import slitflow as follows:"
   ]
  },
  {
   "cell_type": "code",
   "execution_count": null,
   "metadata": {},
   "outputs": [],
   "source": [
    "import slitflow as sf"
   ]
  },
  {
   "attachments": {},
   "cell_type": "markdown",
   "metadata": {},
   "source": [
    "### 4.1. Import movies\n",
    "The image data are assumed to be stored in the ``slitflow/data`` directory in your\n",
    "home directory. The script below loads single-molecule movies, mask images\n",
    "of cell nuclei, and the parameter CSV file."
   ]
  },
  {
   "cell_type": "code",
   "execution_count": null,
   "metadata": {},
   "outputs": [],
   "source": [
    "PL = sf.manager.Pipeline(project_dir)\n",
    "\n",
    "pitch = 0.0710837445886793  # [um/pix]\n",
    "interval = 0.03333  # [s]\n",
    "\n",
    "for i in [1, 2, 3]:\n",
    "    path = os.path.join(data_dir, \"rpb1\", \"rpb1-\" + str(i) + \".tif\")\n",
    "    PL.add(sf.load.tif.SplitFile(), 0, (1, 1), \"rpb1\", \"raw\",\n",
    "            [\"RPB1\"], [], [],\n",
    "            {\"path\": path, \"length_unit\": \"um\", \"pitch\": pitch,\n",
    "            \"interval\": interval, \"value_type\": \"uint8\", \"indexes\": [i],\n",
    "            \"split_depth\": 1})\n",
    "\n",
    "path = os.path.join(data_dir, \"mask\", \"mask.tif\")\n",
    "PL.add(sf.load.tif.SingleFile(), 0, (2, 1), \"mask\", \"raw\",\n",
    "        [\"RPB1\"], [], [],\n",
    "        {\"path\": path, \"length_unit\": \"um\", \"pitch\": pitch,\n",
    "        \"value_type\": \"uint8\", \"split_depth\": 1})\n",
    "PL.save(\"pipeline_1_load\")\n",
    "PL.run()"
   ]
  },
  {
   "attachments": {},
   "cell_type": "markdown",
   "metadata": {},
   "source": [
    "### 4.2. Tracking\n",
    "\n",
    "Single-molecule tracking requires pre-processing and tracking algorithms that\n",
    "are appropriate for the characteristics of the acquired images. Here, we\n",
    "implemented a multistep customized process that focused on improving the\n",
    "location accuracy and processing time. \n",
    "\n",
    "First, fluorescent spots were detected using a Difference of Gaussian filter\n",
    "and the local maximum—as used in [u-track](https://github.com/DanuserLab/u-track)\n",
    "and [TrackMate](https://imagej.net/plugins/trackmate/) —and then selected\n",
    "using a cell nucleus region mask and an intensity threshold. The positions\n",
    "were further refined by 2D Gaussian fitting using a scipy.optimize.curve fit,\n",
    "the trajectories being extracted using the link function of\n",
    "[Trackpy](http://soft-matter.github.io/trackpy). To exclude noise\n",
    "trajectories, those with at least nine steps were selected. \n",
    "\n",
    "These processes can be executed using the following cell."
   ]
  },
  {
   "cell_type": "code",
   "execution_count": null,
   "metadata": {},
   "outputs": [],
   "source": [
    "PL = sf.manager.Pipeline(project_dir)\n",
    "\n",
    "PL.add(sf.img.filter.DifferenceOfGaussian(), 3, (1, 2), None, \"dog\",\n",
    "       [\"RPB1\"], [(1, 1)], [2],\n",
    "       {\"wavelength\": 0.6, \"NA\": 1.4, \"split_depth\": 1})\n",
    "PL.add(sf.img.filter.LocalMax(), 3, (1, 3), None, \"localmax\",\n",
    "       [\"RPB1\"], [(1, 2)], [2], {\"split_depth\": 1})\n",
    "PL.add(sf.loc.convert.LocalMax2Xy(), 3, (1, 4), None, \"xy\",\n",
    "       [\"RPB1\"], [(1, 3)], [2], {\"split_depth\": 1})\n",
    "PL.add(sf.loc.mask.BinaryImage(), 2, (1, 5), None, \"mask\",\n",
    "       [\"RPB1\"], [(1, 4), (2, 1)], [1, 1], {\"split_depth\": 1})\n",
    "PL.add(sf.tbl.filter.CutOffPixelQuantile(), 2, (1, 6), None, 'cutoff',\n",
    "       [\"RPB1\"], [(1, 5)], [2],\n",
    "       {\"calc_col\": \"intensity\", \"cut_factor\": 4, \"split_depth\": 1})\n",
    "PL.add(sf.loc.fit.Gauss2D(), 3, (1, 7), None, 'refine',\n",
    "       [\"RPB1\"], [(1, 1), (1, 6)], [2, 2],\n",
    "       {\"half_width\": 4, \"split_depth\": 1})\n",
    "PL.add(sf.trj.wtrackpy.Link(), 3, (1, 8), None, 'trj',\n",
    "       [\"RPB1\"], [(1, 7)], [1], {\"search_range\": 0.8, \"split_depth\": 1})\n",
    "PL.add(sf.trj.filter.StepAtLeast(), 2, (1, 9), None, 'long',\n",
    "       [\"RPB1\"], [(1, 8)], [1],\n",
    "       {\"step\": 9, \"group_depth\": 2, \"split_depth\": 1})\n",
    "PL.add(sf.tbl.math.Centering(), 1, (1, 10), None, \"center\",\n",
    "       [\"RPB1\"], [(1, 9)], [1],\n",
    "       {\"calc_cols\": [\"x_um\", \"y_um\"], \"group_depth\": 1, \"split_depth\": 1})\n",
    "PL.save(\"pipeline_2_tracking\")\n",
    "PL.run()"
   ]
  },
  {
   "attachments": {},
   "cell_type": "markdown",
   "metadata": {},
   "source": [
    "The first three processes can be replaced with\n",
    "`slitflow.loc.convert.LocalMax2XyWithDoG` to reduce calculation time and\n",
    "file size. \n",
    "\n",
    "Since this strategy is just one example, you can customize the pipeline to \n",
    "suit the feature of images and the behavior of target molecules.\n",
    "\n",
    "### 4.3. Show trajectory\n",
    "\n",
    "The following pipeline creates the trajectory image for each cell nucleus."
   ]
  },
  {
   "cell_type": "code",
   "execution_count": null,
   "metadata": {},
   "outputs": [],
   "source": [
    "PL = sf.manager.Pipeline(project_dir)\n",
    "\n",
    "PL.add(sf.fig.line.Simple(), 2, (3, 1), \"show\", \"fig\",\n",
    "       [\"RPB1\"], [(1, 10)], [1],\n",
    "       {\"calc_cols\": [\"x_um\", \"y_um\"], \"group_depth\": 2, \"split_depth\": 1})\n",
    "PL.add(sf.fig.style.Basic(), 2, (3, 2), None, \"style\",\n",
    "       [\"RPB1\"], [(3, 1)], [1],\n",
    "       {\"size\": [4, 4], \"margin\": [0, 0, 0, 0],\n",
    "        \"limit\": [-14, 14, -14, 14], \"tick\": [[-15, 15], [-15, 15]],\n",
    "        \"is_box\": True, \"line_widths\": 0.7,\n",
    "        \"split_depth\": 1})\n",
    "PL.add(sf.fig.figure.ToTiff(), 2, (3, 3), None, \"tif\",\n",
    "       [\"RPB1\"], [(3, 2)], [1],\n",
    "       {\"scalebar\": [5, 0.05, 0.05, 2, [0, 0, 0]],\n",
    "        \"dpi\": 300, \"split_depth\": 0})\n",
    "PL.add(sf.img.montage.RGB(), 0, (3, 4), None, \"mtg\",\n",
    "       [\"RPB1\"], [(3, 3)], [0],\n",
    "       {\"grid_shape\": [1, 3], \"padding_width\": 0, \"split_depth\": 0})\n",
    "PL.save(\"pipeline_3_show_trajectory\")\n",
    "PL.run()"
   ]
  },
  {
   "attachments": {},
   "cell_type": "markdown",
   "metadata": {},
   "source": [
    "### 4.4. Spot-On analysis\n",
    "\n",
    "Spot-On is state-of-the-art kinetic modeling of single particle trajectories ([Hansen et al., 2017](https://elifesciences.org/articles/33125)). Spot-On is provided as\n",
    "[web-interface](https://spoton.berkeley.edu/SPTGUI/), [python package](https://gitlab.com/tjian-darzacq-lab/Spot-On-cli), and [MatLab backend](https://gitlab.com/tjian-darzacq-lab/spot-on-matlab). \n",
    "\n",
    "Slitflow provides wrapping classes\n",
    "of the fastspt python package, including calculating jump\n",
    "length distribution, fitting the distribution with a model, and creating model\n",
    "curves.\n",
    "\n",
    "The following example fits the jump length distribution of extracted\n",
    "trajectories with the two-component model with explicit localization error\n",
    "and without Z correction."
   ]
  },
  {
   "cell_type": "code",
   "execution_count": null,
   "metadata": {},
   "outputs": [],
   "source": [
    "PL = sf.manager.Pipeline(project_dir)\n",
    "\n",
    "PL.add(sf.trj.wfastspt.JumpLenDist(), 0, (4, 1), \"spoton\", \"hist\",\n",
    "       [\"RPB1\"], [(1, 9)], [0],\n",
    "       {\"trj_depth\": 2, \"MaxJump\": 0.8, \"BinWidth\": 0.01, \"CDF\": False,\n",
    "        \"TimePoints\": 5, \"split_depth\": 2})\n",
    "PL.add(sf.trj.wfastspt.FitJumpLenDist2comp(), 0, (4, 2), None, \"fit2\",\n",
    "       [\"RPB1\"], [(4, 1)], [0],\n",
    "       {\"lower_bound\": [0.05, 0.0001, 0], \"upper_bound\": [25, 0.08, 1],\n",
    "        \"LocError\": 0.035, \"iterations\": 3, \"dZ\": 0.700, \"useZcorr\": False,\n",
    "        \"init\": [0.5, 0.003, 0.3], \"split_depth\": 0})\n",
    "PL.add(sf.trj.wfastspt.ModelJumpLenDist(), 0, (4, 3), None, \"model\",\n",
    "       [\"RPB1\"], [(4, 1), (4, 2)], [0, 0],\n",
    "       {\"show_pdf\": True, \"split_depth\": 2})\n",
    "\n",
    "PL.save(\"pipeline_4_spot_on\")\n",
    "PL.run()"
   ]
  },
  {
   "attachments": {},
   "cell_type": "markdown",
   "metadata": {},
   "source": [
    "This pipeline exports the resulting CSV files of each task, including\n",
    "jump length distributions, fitted parameters, and model curves.\n",
    "\n",
    "Using the following pipeline, we can create the histogram images of the jump\n",
    "length distribution overlayed with the model curve."
   ]
  },
  {
   "cell_type": "code",
   "execution_count": null,
   "metadata": {},
   "outputs": [],
   "source": [
    "PL = sf.manager.Pipeline(project_dir)\n",
    "\n",
    "# path to figure style table\n",
    "path = os.path.join(data_dir, \"param\", \"spoton_fig.csv\")\n",
    "\n",
    "# all required Data should be split into fig unit.\n",
    "PL.add(sf.fig.bar.WithModel(), 2, (4, 4), None, \"fig\",\n",
    "       [\"RPB1\"], [(4, 1), (4, 3)], [2, 2],\n",
    "       {\"calc_cols\": [\"jump_dist\", \"prob\"],\n",
    "        \"model_cols\": [\"jump_dist\", \"prob\"],\n",
    "        \"group_depth\": 2, \"group_depth_model\": 2, \"split_depth\": 2})\n",
    "PL.add(sf.load.table.SingleCsv(), 0, (4, 5), None, \"fig_param\",\n",
    "       [\"RPB1\"], [], [],\n",
    "       {\"path\": path, \"col_info\": [\n",
    "           [1, \"is_cdf\", \"int32\", \"num\", \"Whether histogram is CD\"],\n",
    "           [2, \"dt\", \"int32\", \"num\", \"Time difference of jump step\"],\n",
    "           [0, \"legend\", \"str\", \"none\", \"Legend string\"],\n",
    "           [0, \"marker_colors\", \"str\", \"none\", \"Edge and face colors\"],\n",
    "           [0, \"line_colors\", \"str\", \"none\", \"Line colors\"]],\n",
    "        \"split_depth\": 2})\n",
    "PL.add(sf.fig.style.ParamTable(), 0, (4, 6), None, \"fig_style\",\n",
    "       [\"RPB1\"], [(4, 4), (4, 5)], [2, 2],\n",
    "       {\"size\": [6, 2], \"margin\": [0.9, 0.6, 0.1, 0.1],\n",
    "        \"label\": [\"Jump distance (\\u03bcm)\", \"Probability\"],\n",
    "        \"format\": [\"%.1f\", \"%.2f\"],\n",
    "        \"limit\": [-0.01, 0.85, -0.001, 0.05],\n",
    "        \"tick\": [[0, 0.2, 0.4, 0.6, 0.8], [0, 0.02, 0.04]],\n",
    "        \"marker_widths\": 0.2})\n",
    "PL.add(sf.fig.figure.ToTiff(), 0, (4, 7), None, \"fig_tif\",\n",
    "       [\"RPB1\"], [(4, 6)], [2], {\"split_depth\": 0})\n",
    "PL.add(sf.img.montage.RGB(), 0, (4, 8), None, 'fig_mtg',\n",
    "       [\"RPB1\"], [(4, 7)], [0],\n",
    "       {\"grid_shape\": [4, 1], \"padding_width\": 0, \"split_depth\": 0})\n",
    "\n",
    "PL.save(\"pipeline_5_spot_on_figure\")\n",
    "PL.run()"
   ]
  },
  {
   "attachments": {},
   "cell_type": "markdown",
   "metadata": {},
   "source": [
    "## 4.5. TRamWAy analysis\n",
    "\n",
    "TRamWAy is a cutting-edge analysis tool for single molecule dynamics such as\n",
    "diffusivity and potential energy spatiotemporally. ([Laurent et al.,\n",
    "2022](https://academic.oup.com/bioinformatics/article/38/11/3149/6575428?login=true)).\n",
    "TRamWAy is provided as a python package [tramway](https://tramway.readthedocs.io/en/latest/). \n",
    "\n",
    "Slitflow provides wrapping classes of some of the helper functions in the\n",
    "tramway package, including tessellation, inference, and map_plot.\n",
    "\n",
    "The following example calculates and visualizes the spatial map of molecular\n",
    "diffusivity for each cell nucleus."
   ]
  },
  {
   "cell_type": "code",
   "execution_count": null,
   "metadata": {},
   "outputs": [],
   "source": [
    "PL = sf.manager.Pipeline(project_dir)\n",
    "\n",
    "PL.add(sf.trj.wtramway.Tessellation(), 1, (5, 1), \"tram\", \"tess\",\n",
    "       [\"RPB1\"], [(1, 10)], [1], {\"method\": \"gwr\", \"split_depth\": 1})\n",
    "PL.add(sf.trj.wtramway.Inference(), 0, (5, 2), None, \"infer\",\n",
    "       [\"RPB1\"], [(5, 1)], [1], {\"mode\": \"d\"})\n",
    "PL.add(sf.trj.wtramway.MapPlot(), 2, (5, 3), None, \"map\",\n",
    "       [\"RPB1\"], [(5, 1), (5, 2)], [1, 1],\n",
    "       {\"feature\": \"diffusivity\", \"param\": {\"unit\": \"std\"}})\n",
    "PL.add(sf.fig.style.Basic(), 0, (5, 4), None, \"fig_style\",\n",
    "       [\"RPB1\"], [(5, 3)], [1],\n",
    "       {\"size\": [4, 4], \"margin\": [0, 0, 0, 0], \"is_box\": True,\n",
    "        \"limit\": [-14, 14, -14, 14], \"tick\": [[-15, 15], [-15, 15]],\n",
    "        \"clim\": [0, 0.06], \"cmap\": \"coolwarm\"})\n",
    "PL.add(sf.fig.figure.ToTiff(), 0, (5, 5), None, \"fig_tif\",\n",
    "       [\"RPB1\"], [(5, 4)], [1],\n",
    "       {\"scalebar\": [5, 0.05, 0.05, 2, [0, 0, 0]],\n",
    "        \"dpi\": 300, \"split_depth\": 0})\n",
    "PL.add(sf.img.montage.RGB(), 0, (5, 6), None, 'fig_mtg',\n",
    "       [\"RPB1\"], [(5, 5)], [0],\n",
    "       {\"grid_shape\": [1, 3], \"padding_width\": 0, \"split_depth\": 0})\n",
    "PL.add(sf.fig.style.ColorBar(), 0, (5, 7), None, \"colorbar\",\n",
    "       [\"RPB1\"], [(5, 4)], [1],\n",
    "       {\"tick\": [0, 0.02, 0.04, 0.06], \"format\": \"%0.2f\"})\n",
    "PL.add(sf.fig.figure.ToTiff(), 0, (5, 8), None, \"cb_tif\",\n",
    "       [\"RPB1\"], [(5, 7)], [1], {\"split_depth\": 1})\n",
    "\n",
    "PL.save(\"pipeline_6_tramway\")\n",
    "PL.run()"
   ]
  },
  {
   "attachments": {},
   "cell_type": "markdown",
   "metadata": {},
   "source": [
    "### 4.6. Make pipeline flowchart\n",
    "\n",
    "All tasks, including tracking, analysis, and drawing, can be saved as a single\n",
    "pipeline script text file in the CSV format for reuse and distribution. Using\n",
    "the pipeline script, a series of data-processing steps from the raw data to the\n",
    "final image could be exported as a flowchart. \n",
    "\n",
    "Each circle in the flowchart represents an individual task corresponding to an\n",
    "analysis subfolder in the project directory. The arrows between circles\n",
    "represent data dependencies. In this example, 26 different classes were used,\n",
    "and all the data were stored in 31 subfolders in five groups.\n",
    "\n",
    "The flowchart can be created with the following script:"
   ]
  },
  {
   "cell_type": "code",
   "execution_count": null,
   "metadata": {},
   "outputs": [],
   "source": [
    "PL = sf.manager.Pipeline(project_dir)\n",
    "\n",
    "PL.load([\"pipeline_1_load\", \"pipeline_2_tracking\",\n",
    "         \"pipeline_3_show_trajectory\", \"pipeline_4_spot_on\",\n",
    "         \"pipeline_5_spot_on_figure\", \"pipeline_6_tramway\"])\n",
    "\n",
    "PL.make_flowchart(\"pipeline\", \"grp_ana\", scale=(0.6, 1.8))"
   ]
  },
  {
   "attachments": {},
   "cell_type": "markdown",
   "metadata": {},
   "source": [
    "The flowchart image will be saved as `getting_started_advanced/g0_config/pipeline.png`."
   ]
  }
 ],
 "metadata": {
  "kernelspec": {
   "display_name": "dev",
   "language": "python",
   "name": "python3"
  },
  "language_info": {
   "codemirror_mode": {
    "name": "ipython",
    "version": 3
   },
   "file_extension": ".py",
   "mimetype": "text/x-python",
   "name": "python",
   "nbconvert_exporter": "python",
   "pygments_lexer": "ipython3",
   "version": "3.10.4"
  },
  "orig_nbformat": 4,
  "vscode": {
   "interpreter": {
    "hash": "31dbf7c85bf67d06a94d62ece3333a82cd016e079234b9518ff9e400970b0f30"
   }
  }
 },
 "nbformat": 4,
 "nbformat_minor": 2
}
